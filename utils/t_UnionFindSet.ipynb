{
 "cells": [
  {
   "cell_type": "markdown",
   "metadata": {},
   "source": [
    "## 测试\n",
    "利用并查集对相似话题进行合并"
   ]
  },
  {
   "cell_type": "code",
   "execution_count": null,
   "metadata": {},
   "outputs": [],
   "source": [
    "import networkx as nx\n",
    "import matplotlib.pyplot as plt"
   ]
  },
  {
   "cell_type": "code",
   "execution_count": 119,
   "metadata": {},
   "outputs": [],
   "source": [
    "def draw_union_find(uf, n):\n",
    "    G = nx.DiGraph()  # 使用有向图表示树结构\n",
    "    for i in range(n):\n",
    "        G.add_node(i)\n",
    "    for i in range(n):\n",
    "        parent = uf.find(i)\n",
    "        if parent != i:\n",
    "            uf.parent_list[i] = parent  # 更新parent_list\n",
    "            G.add_edge(i, parent)  # 添加从子节点到父节点的边\n",
    "    \n",
    "    # 使用树布局绘制\n",
    "    pos = nx.spring_layout(G)\n",
    "    nx.draw(G, pos, with_labels=True, node_color='lightblue', node_size=500, font_size=10, font_weight='bold', arrows=True)\n",
    "    plt.title(\"Union-Find Visualization\")\n",
    "    plt.show()\n"
   ]
  },
  {
   "cell_type": "code",
   "execution_count": 120,
   "metadata": {},
   "outputs": [],
   "source": [
    "class UnionFindSet:\n",
    "    def __init__(self, n):\n",
    "        self.parent_list = [i for i in range(n)]\t# 保存节点的父节点\n",
    "        self.ranks = [1 for i in range(n)]\t# 保存父节点的大小\n",
    "        \n",
    "    def find(self, node):\n",
    "        \"\"\"非递归版本find(x) + 路径压缩\"\"\"\n",
    "        # 找到node的根节点\n",
    "        while node != self.parent_list[node]: # 如果假设不成立（r不是根节点），就继续循环\n",
    "            # 优化：路径压缩\n",
    "            self.parent_list[node] = self.parent_list[self.parent_list[node]]\n",
    "            node = self.parent_list[node] # 假设根节点是当前节点的父节点，即往树的上面走一层\n",
    "        return node\n",
    "\n",
    "    def union(self, nodea, nodeb):\n",
    "        \"\"\"根据Rank来合并(Union by Rank)\"\"\"\n",
    "        rootX,rootY = self.find(nodea), self.find(nodeb)\n",
    "        print((nodea, nodeb), \"->\", (rootX,rootY))\n",
    "        if rootX==rootY:\n",
    "            return\n",
    "        #取rank值小的那个挂到大的那个节点下面\n",
    "        #被挂的那个根节点的rank值需要+\n",
    "        if(self.ranks[rootX]>self.ranks[rootY]): \n",
    "            self.parent_list[rootY] = rootX \n",
    "            self.ranks[rootX] += self.ranks[rootY]\n",
    "        else: \n",
    "            self.parent_list[rootX] = rootY\n",
    "            # self.ranks[rootY] += self.ranks[rootX]"
   ]
  },
  {
   "cell_type": "code",
   "execution_count": 91,
   "metadata": {},
   "outputs": [],
   "source": [
    "# 7*7 matrix\n",
    "# sim_matrix = cosine_similarity(vectors)\n",
    "sim_matrix = [\n",
    "    [1, 0.9, 0, 0.9, 0, 0, 0],\n",
    "    [0.9, 1, 0.9, 0, 0, 0.9, 0],\n",
    "    [0, 0, 1, 0, 0, 0, 0],\n",
    "    [0, 0, 0, 1, 0, 0, 0],\n",
    "    [0, 0, 0, 0, 1, 0, 0],\n",
    "    [0, 0, 0, 0, 0, 1, 0],\n",
    "    [0, 0, 0, 0, 0, 0, 1],\n",
    "]"
   ]
  },
  {
   "cell_type": "code",
   "execution_count": 121,
   "metadata": {},
   "outputs": [
    {
     "name": "stdout",
     "output_type": "stream",
     "text": [
      "(0, 1) -> (0, 1)\n",
      "(0, 3) -> (1, 3)\n",
      "(1, 2) -> (3, 2)\n",
      "(1, 5) -> (2, 5)\n",
      "[1, 2, 5, 2, 4, 5, 6]\n"
     ]
    }
   ],
   "source": [
    "df_merge = []\n",
    "thredshold = 0.85   # 阈值0.75\n",
    "for i in range(len(sim_matrix)):\n",
    "    for j in range(i+1, len(sim_matrix)):\n",
    "        if sim_matrix[i][j] > thredshold:\n",
    "            df_merge.append([i, j, sim_matrix[i][j]])\n",
    "\n",
    "# 通过并查集合并同类项\n",
    "uf = UnionFindSet(len(sim_matrix))\n",
    "for k in range(len(df_merge)):\n",
    "    # print(df_merge[k][0], df_merge[k][1])\n",
    "    uf.union(df_merge[k][0], df_merge[k][1])\n",
    "\n",
    "print(uf.parent_list)"
   ]
  },
  {
   "cell_type": "code",
   "execution_count": 122,
   "metadata": {},
   "outputs": [
    {
     "data": {
      "image/png": "[encoded data removed]",
      "text/plain": [
       "<Figure size 640x480 with 1 Axes>"
      ]
     },
     "metadata": {},
     "output_type": "display_data"
    },
    {
     "name": "stdout",
     "output_type": "stream",
     "text": [
      "[5, 5, 5, 5, 4, 5, 6]\n"
     ]
    }
   ],
   "source": [
    "draw_union_find(uf, n=7)    # 进一步调整&压缩 并查集\n",
    "print(uf.parent_list)"
   ]
  },
  {
   "cell_type": "code",
   "execution_count": 123,
   "metadata": {},
   "outputs": [
    {
     "name": "stdout",
     "output_type": "stream",
     "text": [
      "合并后的聚簇结果如下： dict_values([[0, 1, 2, 3, 5], [4], [6]])\n",
      "其中，包含需合并的数量： 1\n"
     ]
    }
   ],
   "source": [
    "# 输出 uf 中所有相同父节点的为一组\n",
    "# 创建一个字典，键为父节点（也即），值为需要合并的索引列表\n",
    "index_groups = {}\n",
    "for index, p_value in enumerate(uf.parent_list):  # index 位置对应父节点的值为 value\n",
    "    if p_value not in index_groups:\n",
    "        index_groups[p_value] = []\n",
    "    index_groups[p_value].append(index)\n",
    "print(\"合并后的聚簇结果如下：\", index_groups.values())\n",
    "print(\"其中，包含需合并的数量：\", len([x for x in index_groups.values() if len(x)>1]))"
   ]
  }
 ],
 "metadata": {
  "kernelspec": {
   "display_name": "Python 3",
   "language": "python",
   "name": "python3"
  },
  "language_info": {
   "codemirror_mode": {
    "name": "ipython",
    "version": 3
   },
   "file_extension": ".py",
   "mimetype": "text/x-python",
   "name": "python",
   "nbconvert_exporter": "python",
   "pygments_lexer": "ipython3",
   "version": "3.10.16"
  }
 },
 "nbformat": 4,
 "nbformat_minor": 2
}
